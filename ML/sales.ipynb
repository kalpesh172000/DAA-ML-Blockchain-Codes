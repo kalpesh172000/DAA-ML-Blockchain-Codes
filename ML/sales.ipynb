{
 "cells": [
  {
   "cell_type": "code",
   "execution_count": 29,
   "id": "8c26d5aa-5c4d-49ce-afd8-fe39c41a7fc9",
   "metadata": {},
   "outputs": [],
   "source": [
    "import pandas as pd\n",
    "import numpy as np\n",
    "import seaborn as sns\n",
    "import matplotlib.pyplot as plt"
   ]
  },
  {
   "cell_type": "code",
   "execution_count": 30,
   "id": "8bca4ee1-2182-4e65-8630-aad258af3002",
   "metadata": {},
   "outputs": [],
   "source": [
    "df = pd.read_csv(\"sales_data_sample.csv\",encoding=\"latin\")"
   ]
  },
  {
   "cell_type": "code",
   "execution_count": 46,
   "id": "dde13595-1787-40b6-825a-8ee2691de226",
   "metadata": {},
   "outputs": [
    {
     "data": {
      "text/html": [
       "<div>\n",
       "<style scoped>\n",
       "    .dataframe tbody tr th:only-of-type {\n",
       "        vertical-align: middle;\n",
       "    }\n",
       "\n",
       "    .dataframe tbody tr th {\n",
       "        vertical-align: top;\n",
       "    }\n",
       "\n",
       "    .dataframe thead th {\n",
       "        text-align: right;\n",
       "    }\n",
       "</style>\n",
       "<table border=\"1\" class=\"dataframe\">\n",
       "  <thead>\n",
       "    <tr style=\"text-align: right;\">\n",
       "      <th></th>\n",
       "      <th>ordernumber</th>\n",
       "      <th>quantityordered</th>\n",
       "      <th>priceeach</th>\n",
       "      <th>orderlinenumber</th>\n",
       "      <th>sales</th>\n",
       "      <th>status</th>\n",
       "      <th>month_id</th>\n",
       "      <th>year_id</th>\n",
       "      <th>productline</th>\n",
       "      <th>msrp</th>\n",
       "      <th>country</th>\n",
       "      <th>dealsize</th>\n",
       "    </tr>\n",
       "  </thead>\n",
       "  <tbody>\n",
       "    <tr>\n",
       "      <th>0</th>\n",
       "      <td>10107</td>\n",
       "      <td>30</td>\n",
       "      <td>95.70</td>\n",
       "      <td>2</td>\n",
       "      <td>2871.00</td>\n",
       "      <td>1</td>\n",
       "      <td>2</td>\n",
       "      <td>2003</td>\n",
       "      <td>1</td>\n",
       "      <td>95</td>\n",
       "      <td>18</td>\n",
       "      <td>2</td>\n",
       "    </tr>\n",
       "    <tr>\n",
       "      <th>1</th>\n",
       "      <td>10121</td>\n",
       "      <td>34</td>\n",
       "      <td>81.35</td>\n",
       "      <td>5</td>\n",
       "      <td>2765.90</td>\n",
       "      <td>1</td>\n",
       "      <td>5</td>\n",
       "      <td>2003</td>\n",
       "      <td>1</td>\n",
       "      <td>95</td>\n",
       "      <td>6</td>\n",
       "      <td>2</td>\n",
       "    </tr>\n",
       "    <tr>\n",
       "      <th>2</th>\n",
       "      <td>10134</td>\n",
       "      <td>41</td>\n",
       "      <td>94.74</td>\n",
       "      <td>2</td>\n",
       "      <td>3884.34</td>\n",
       "      <td>1</td>\n",
       "      <td>7</td>\n",
       "      <td>2003</td>\n",
       "      <td>1</td>\n",
       "      <td>95</td>\n",
       "      <td>6</td>\n",
       "      <td>1</td>\n",
       "    </tr>\n",
       "    <tr>\n",
       "      <th>3</th>\n",
       "      <td>10145</td>\n",
       "      <td>45</td>\n",
       "      <td>83.26</td>\n",
       "      <td>6</td>\n",
       "      <td>3746.70</td>\n",
       "      <td>1</td>\n",
       "      <td>8</td>\n",
       "      <td>2003</td>\n",
       "      <td>1</td>\n",
       "      <td>95</td>\n",
       "      <td>18</td>\n",
       "      <td>1</td>\n",
       "    </tr>\n",
       "    <tr>\n",
       "      <th>4</th>\n",
       "      <td>10159</td>\n",
       "      <td>49</td>\n",
       "      <td>100.00</td>\n",
       "      <td>14</td>\n",
       "      <td>5205.27</td>\n",
       "      <td>1</td>\n",
       "      <td>10</td>\n",
       "      <td>2003</td>\n",
       "      <td>1</td>\n",
       "      <td>95</td>\n",
       "      <td>18</td>\n",
       "      <td>1</td>\n",
       "    </tr>\n",
       "  </tbody>\n",
       "</table>\n",
       "</div>"
      ],
      "text/plain": [
       "   ordernumber  quantityordered  priceeach  orderlinenumber    sales  status  \\\n",
       "0        10107               30      95.70                2  2871.00       1   \n",
       "1        10121               34      81.35                5  2765.90       1   \n",
       "2        10134               41      94.74                2  3884.34       1   \n",
       "3        10145               45      83.26                6  3746.70       1   \n",
       "4        10159               49     100.00               14  5205.27       1   \n",
       "\n",
       "   month_id  year_id  productline  msrp  country  dealsize  \n",
       "0         2     2003            1    95       18         2  \n",
       "1         5     2003            1    95        6         2  \n",
       "2         7     2003            1    95        6         1  \n",
       "3         8     2003            1    95       18         1  \n",
       "4        10     2003            1    95       18         1  "
      ]
     },
     "execution_count": 46,
     "metadata": {},
     "output_type": "execute_result"
    }
   ],
   "source": [
    "df.head()"
   ]
  },
  {
   "cell_type": "code",
   "execution_count": 32,
   "id": "f7c648f0-cc67-42a3-8504-296ce9b9d330",
   "metadata": {},
   "outputs": [
    {
     "name": "stdout",
     "output_type": "stream",
     "text": [
      "<class 'pandas.core.frame.DataFrame'>\n",
      "RangeIndex: 2823 entries, 0 to 2822\n",
      "Data columns (total 25 columns):\n",
      " #   Column            Non-Null Count  Dtype  \n",
      "---  ------            --------------  -----  \n",
      " 0   ORDERNUMBER       2823 non-null   int64  \n",
      " 1   QUANTITYORDERED   2823 non-null   int64  \n",
      " 2   PRICEEACH         2823 non-null   float64\n",
      " 3   ORDERLINENUMBER   2823 non-null   int64  \n",
      " 4   SALES             2823 non-null   float64\n",
      " 5   ORDERDATE         2823 non-null   object \n",
      " 6   STATUS            2823 non-null   object \n",
      " 7   QTR_ID            2823 non-null   int64  \n",
      " 8   MONTH_ID          2823 non-null   int64  \n",
      " 9   YEAR_ID           2823 non-null   int64  \n",
      " 10  PRODUCTLINE       2823 non-null   object \n",
      " 11  MSRP              2823 non-null   int64  \n",
      " 12  PRODUCTCODE       2823 non-null   object \n",
      " 13  CUSTOMERNAME      2823 non-null   object \n",
      " 14  PHONE             2823 non-null   object \n",
      " 15  ADDRESSLINE1      2823 non-null   object \n",
      " 16  ADDRESSLINE2      302 non-null    object \n",
      " 17  CITY              2823 non-null   object \n",
      " 18  STATE             1337 non-null   object \n",
      " 19  POSTALCODE        2747 non-null   object \n",
      " 20  COUNTRY           2823 non-null   object \n",
      " 21  TERRITORY         1749 non-null   object \n",
      " 22  CONTACTLASTNAME   2823 non-null   object \n",
      " 23  CONTACTFIRSTNAME  2823 non-null   object \n",
      " 24  DEALSIZE          2823 non-null   object \n",
      "dtypes: float64(2), int64(7), object(16)\n",
      "memory usage: 551.5+ KB\n"
     ]
    }
   ],
   "source": [
    "df.info()"
   ]
  },
  {
   "cell_type": "code",
   "execution_count": 33,
   "id": "2119f711-4ed3-4f66-bd8a-c2885f5c0ec5",
   "metadata": {},
   "outputs": [],
   "source": [
    "df.columns = df.columns.str.lower()"
   ]
  },
  {
   "cell_type": "code",
   "execution_count": 34,
   "id": "c6088bf4-6ea6-48e5-bb30-975a36fd3880",
   "metadata": {},
   "outputs": [
    {
     "name": "stdout",
     "output_type": "stream",
     "text": [
      "<class 'pandas.core.frame.DataFrame'>\n",
      "RangeIndex: 2823 entries, 0 to 2822\n",
      "Data columns (total 25 columns):\n",
      " #   Column            Non-Null Count  Dtype  \n",
      "---  ------            --------------  -----  \n",
      " 0   ordernumber       2823 non-null   int64  \n",
      " 1   quantityordered   2823 non-null   int64  \n",
      " 2   priceeach         2823 non-null   float64\n",
      " 3   orderlinenumber   2823 non-null   int64  \n",
      " 4   sales             2823 non-null   float64\n",
      " 5   orderdate         2823 non-null   object \n",
      " 6   status            2823 non-null   object \n",
      " 7   qtr_id            2823 non-null   int64  \n",
      " 8   month_id          2823 non-null   int64  \n",
      " 9   year_id           2823 non-null   int64  \n",
      " 10  productline       2823 non-null   object \n",
      " 11  msrp              2823 non-null   int64  \n",
      " 12  productcode       2823 non-null   object \n",
      " 13  customername      2823 non-null   object \n",
      " 14  phone             2823 non-null   object \n",
      " 15  addressline1      2823 non-null   object \n",
      " 16  addressline2      302 non-null    object \n",
      " 17  city              2823 non-null   object \n",
      " 18  state             1337 non-null   object \n",
      " 19  postalcode        2747 non-null   object \n",
      " 20  country           2823 non-null   object \n",
      " 21  territory         1749 non-null   object \n",
      " 22  contactlastname   2823 non-null   object \n",
      " 23  contactfirstname  2823 non-null   object \n",
      " 24  dealsize          2823 non-null   object \n",
      "dtypes: float64(2), int64(7), object(16)\n",
      "memory usage: 551.5+ KB\n"
     ]
    }
   ],
   "source": [
    "df.info()"
   ]
  },
  {
   "cell_type": "code",
   "execution_count": 42,
   "id": "0d3e0459-c243-427d-9151-ad5027b9cc2b",
   "metadata": {},
   "outputs": [
    {
     "data": {
      "text/plain": [
       "ordernumber        0\n",
       "quantityordered    0\n",
       "priceeach          0\n",
       "orderlinenumber    0\n",
       "sales              0\n",
       "status             0\n",
       "month_id           0\n",
       "year_id            0\n",
       "productline        0\n",
       "msrp               0\n",
       "country            0\n",
       "dealsize           0\n",
       "dtype: int64"
      ]
     },
     "execution_count": 42,
     "metadata": {},
     "output_type": "execute_result"
    }
   ],
   "source": [
    "df.isnull().sum()"
   ]
  },
  {
   "cell_type": "code",
   "execution_count": 36,
   "id": "556b1f78-be07-4911-b307-181b7c128612",
   "metadata": {},
   "outputs": [],
   "source": [
    "#list of columns to be dropped \n",
    "columns_to_drop = ['ordernumber','customername','addressline2', 'territory', 'state', 'city', 'orderdate', 'contactlastname','contactfirstname',\n",
    "                   'postalcode', 'qtr_id' , 'productcode', 'addressline1', 'phone']\n",
    "\n",
    "\n",
    "df = df.drop(columns=columns_to_drop)"
   ]
  },
  {
   "cell_type": "code",
   "execution_count": 37,
   "id": "2704e26f-1645-43d4-83b6-a4073761589c",
   "metadata": {},
   "outputs": [
    {
     "data": {
      "text/plain": [
       "array(['Shipped', 'Disputed', 'In Process', 'Cancelled', 'On Hold',\n",
       "       'Resolved'], dtype=object)"
      ]
     },
     "execution_count": 37,
     "metadata": {},
     "output_type": "execute_result"
    }
   ],
   "source": [
    "df['status'].unique()"
   ]
  },
  {
   "cell_type": "code",
   "execution_count": 38,
   "id": "f13f7167-6e4b-4ec9-9f4d-da2d44b0a44d",
   "metadata": {},
   "outputs": [],
   "source": [
    "df.replace({'Disputed':'notshipped',\n",
    "            'In Process':'notshipped',\n",
    "            'Cancelled':'notshipped',\n",
    "            'On Hold':'notshipped',\n",
    "            'Resolved':'notshipped'}, inplace=True)\n",
    "df['status'] = df['status'].map({'notshipped': 0, 'Shipped': 1})"
   ]
  },
  {
   "cell_type": "code",
   "execution_count": 39,
   "id": "e9269e69-1e05-4f67-a126-05a39d22d156",
   "metadata": {},
   "outputs": [],
   "source": [
    "from sklearn.preprocessing import LabelEncoder"
   ]
  },
  {
   "cell_type": "code",
   "execution_count": 40,
   "id": "14d528c8-bae2-4000-9be7-c87164cff62b",
   "metadata": {},
   "outputs": [],
   "source": [
    "def convert(col):\n",
    "    le = LabelEncoder()\n",
    "    df[col] = le.fit_transform(df[col].values)\n",
    "    "
   ]
  },
  {
   "cell_type": "code",
   "execution_count": 43,
   "id": "5af8aaf6-2381-4bc5-978a-bfe41e85225d",
   "metadata": {},
   "outputs": [],
   "source": [
    "cata= ['productline','country','dealsize']\n",
    "for c in cata:\n",
    "    convert(c)"
   ]
  },
  {
   "cell_type": "code",
   "execution_count": 45,
   "id": "c0c94a38-3ca9-4caa-8714-5a76fd41b8cf",
   "metadata": {},
   "outputs": [],
   "source": [
    "from sklearn.preprocessing import StandardScaler\n",
    "scaler = StandardScaler()\n",
    "scaled_values = scaler.fit_transform(df.values)"
   ]
  },
  {
   "cell_type": "code",
   "execution_count": 48,
   "id": "8a3407c5-43c2-48e3-ab39-131ae9a5f710",
   "metadata": {},
   "outputs": [],
   "source": [
    "from sklearn.cluster import KMeans\n",
    "wcss = []\n",
    "for k in range(1,15):\n",
    "    km = KMeans(n_clusters=k,init='k-means++',random_state=15)\n",
    "    km.fit(scaled_values)\n",
    "    wcss.append(km.inertia_)"
   ]
  },
  {
   "cell_type": "code",
   "execution_count": 49,
   "id": "2ee2fd96-e11a-44aa-a6ae-32ff3970ffa4",
   "metadata": {},
   "outputs": [],
   "source": [
    "k = list(range(1,15))"
   ]
  },
  {
   "cell_type": "code",
   "execution_count": 51,
   "id": "ca2847ac-d738-4b5a-a79c-c0d22861325a",
   "metadata": {},
   "outputs": [
    {
     "data": {
      "image/png": "[encoded data removed]",
      "text/plain": [
       "<Figure size 640x480 with 1 Axes>"
      ]
     },
     "metadata": {},
     "output_type": "display_data"
    }
   ],
   "source": [
    "plt.plot(k,wcss)\n",
    "plt.xlabel('cluster')\n",
    "plt.ylabel('score')\n",
    "plt.show()"
   ]
  },
  {
   "cell_type": "code",
   "execution_count": null,
   "id": "a2ed784c-40b8-4d53-97c9-882ce7efe50b",
   "metadata": {},
   "outputs": [],
   "source": []
  }
 ],
 "metadata": {
  "kernelspec": {
   "display_name": "Python 3 (ipykernel)",
   "language": "python",
   "name": "python3"
  },
  "language_info": {
   "codemirror_mode": {
    "name": "ipython",
    "version": 3
   },
   "file_extension": ".py",
   "mimetype": "text/x-python",
   "name": "python",
   "nbconvert_exporter": "python",
   "pygments_lexer": "ipython3",
   "version": "3.10.12"
  }
 },
 "nbformat": 4,
 "nbformat_minor": 5
}
